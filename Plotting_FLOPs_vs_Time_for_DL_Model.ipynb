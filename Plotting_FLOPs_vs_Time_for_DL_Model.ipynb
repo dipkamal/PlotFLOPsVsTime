{
  "nbformat": 4,
  "nbformat_minor": 0,
  "metadata": {
    "colab": {
      "name": "Plotting FLOPs vs Time for DL Model",
      "provenance": [],
      "collapsed_sections": []
    },
    "kernelspec": {
      "name": "python3",
      "display_name": "Python 3"
    },
    "language_info": {
      "name": "python"
    },
    "accelerator": "GPU"
  },
  "cells": [
    {
      "cell_type": "code",
      "source": [
        "#library to measure the FLOPs\n",
        "!pip install thop"
      ],
      "metadata": {
        "colab": {
          "base_uri": "https://localhost:8080/"
        },
        "id": "T8XUVBNSoCnE",
        "outputId": "fd637c4e-c386-4179-c671-dfb74f2d1083"
      },
      "execution_count": 1,
      "outputs": [
        {
          "output_type": "stream",
          "name": "stdout",
          "text": [
            "Collecting thop\n",
            "  Downloading thop-0.0.31.post2005241907-py3-none-any.whl (8.7 kB)\n",
            "Requirement already satisfied: torch>=1.0.0 in /usr/local/lib/python3.7/dist-packages (from thop) (1.10.0+cu111)\n",
            "Requirement already satisfied: typing-extensions in /usr/local/lib/python3.7/dist-packages (from torch>=1.0.0->thop) (4.1.1)\n",
            "Installing collected packages: thop\n",
            "Successfully installed thop-0.0.31.post2005241907\n"
          ]
        }
      ]
    },
    {
      "cell_type": "code",
      "execution_count": 2,
      "metadata": {
        "id": "hALt7zsUgRM9"
      },
      "outputs": [],
      "source": [
        "import torch\n",
        "import torch.nn as nn\n",
        "import timeit\n",
        "from thop import profile\n",
        "import matplotlib.pyplot as plt\n",
        "from torchvision.models import alexnet\n",
        "from torchvision.models import resnet50\n",
        "from torchvision.models import vgg16\n",
        "import seaborn as sns"
      ]
    },
    {
      "cell_type": "code",
      "source": [
        "#list for storing flops and time for each model\n",
        "\n",
        "''' AlexNet '''\n",
        "flops_list_alexnet=[]\n",
        "time_list_alexnet=[]\n",
        "\n",
        "''' VGG16 '''\n",
        "flops_list_vgg16=[]\n",
        "time_list_vgg16=[]\n",
        "\n",
        "''' ResNet '''\n",
        "flops_list_resnet=[]\n",
        "time_list_resnet=[]\n",
        "\n",
        "''' Single Conv Layer '''\n",
        "flops_list_conv=[]\n",
        "time_list_conv=[]"
      ],
      "metadata": {
        "id": "DgBZQemb3FUU"
      },
      "execution_count": 3,
      "outputs": []
    },
    {
      "cell_type": "code",
      "source": [
        "''' Different values for evaluating time and flops '''\n",
        "\n",
        "batch_size=[1,2,4,8]\n",
        "in_channel=[3,3,3,3]\n",
        "out_channel=[16,32,64,128]\n",
        "height=[112,112,224,224]\n",
        "width=[112,112,224,224]\n",
        "kernel_size=[1,3,5,7]\n",
        "stride=[1,1,1,1]"
      ],
      "metadata": {
        "id": "F6GL1WAH3fwI"
      },
      "execution_count": 4,
      "outputs": []
    },
    {
      "cell_type": "code",
      "source": [
        "''' Single Conv layer model '''\n",
        "class one_conv_model(torch.nn.Module):\n",
        "  def __init__(self,in_channel, out_channel, kernel_size, stride):\n",
        "    super().__init__()\n",
        "\n",
        "    self.net=nn.Sequential(\n",
        "        nn.Conv2d(in_channels=in_channel, out_channels=out_channel,kernel_size=kernel_size,stride=stride)\n",
        "    )\n",
        "  def forward(self,x):\n",
        "    x=self.net(x)\n",
        "    return x"
      ],
      "metadata": {
        "id": "37dlfI_JHWT3"
      },
      "execution_count": 5,
      "outputs": []
    },
    {
      "cell_type": "code",
      "source": [
        "''' Function to compute flops and time for each model for different parameter values '''\n",
        "\n",
        "def compute_flops_time():\n",
        "  ''' Loop through each model'''\n",
        "  for i in range(len(batch_size)):\n",
        "    input=torch.randn(batch_size[i], in_channel[i], height[i], width[i])\n",
        "    \n",
        "    alexnet_model=alexnet()\n",
        "    macs, params = profile(alexnet_model, inputs=(input,))\n",
        "    flops_list_alexnet.append(macs)\n",
        "    t = timeit.repeat(lambda: alexnet_model(input), number=5, repeat=5)\n",
        "    avg_time=sum(t)/len(t)\n",
        "    time_list_alexnet.append(avg_time)\n",
        "\n",
        "    #VGG16 model\n",
        "    vgg_model=vgg16()\n",
        "    macs, params = profile(vgg_model, inputs=(input,))\n",
        "    flops_list_vgg16.append(macs)\n",
        "    t = timeit.repeat(lambda: vgg_model(input), number=5, repeat=5)\n",
        "    avg_time=sum(t)/len(t)\n",
        "    time_list_vgg16.append(avg_time)\n",
        "\n",
        "    #ResNet model\n",
        "    resnet_model=resnet50()\n",
        "    macs, params = profile(resnet_model, inputs=(input,))\n",
        "    flops_list_resnet.append(macs)\n",
        "    t = timeit.repeat(lambda: resnet_model(input), number=5, repeat=5)\n",
        "    avg_time=sum(t)/len(t)\n",
        "    time_list_resnet.append(avg_time)\n",
        "    \n",
        "    #single conv layer\n",
        "    my_model=one_conv_model(in_channel[i], out_channel[i], kernel_size[i], stride[i])\n",
        "    macs, params = profile(my_model, inputs=(input,))\n",
        "    flops_list_conv.append(macs)\n",
        "    t = timeit.repeat(lambda: my_model(input), number=5, repeat=5)\n",
        "    avg_time=sum(t)/len(t)\n",
        "    time_list_conv.append(avg_time)"
      ],
      "metadata": {
        "id": "mPephnkm34g9"
      },
      "execution_count": 6,
      "outputs": []
    },
    {
      "cell_type": "code",
      "source": [
        "''' Different kind of plots'''\n",
        "def plot_as_line():\n",
        "  plt.plot(flops_list_alexnet, time_list_alexnet, color='r', label='alexnet')\n",
        "  plt.plot(flops_list_vgg16, time_list_vgg16, color='g', label='vggnet')\n",
        "  plt.plot(flops_list_resnet, time_list_resnet, color='b', label='resnet')\n",
        "  plt.plot(flops_list_conv, time_list_conv, color='y', label='single conv')\n",
        "  plt.legend()\n",
        "  plt.xlabel(\"FLOPs\")\n",
        "  plt.ylabel(\"Time (second)\")\n",
        "  plt.title(\"FLOPs vs. Time\")\n",
        "\n",
        "\n",
        "def plot_as_circles():\n",
        "  plt.plot(flops_list_alexnet, time_list_alexnet, 'o', label='alexnet')\n",
        "  plt.plot(flops_list_vgg16, time_list_vgg16, 'o', label='vggnet')\n",
        "  plt.plot(flops_list_resnet, time_list_resnet, 'o', label='resnet')\n",
        "  plt.plot(flops_list_conv, time_list_conv, 'o', label='single conv')\n",
        "  plt.legend()\n",
        "  plt.xlabel(\"FLOPs\")\n",
        "  plt.ylabel(\"Time (second)\")\n",
        "  plt.title(\"FLOPs vs. Time\")\n",
        "\n",
        "\n",
        "def plot_with_zoom():\n",
        "  fig, ax = plt.subplots()\n",
        "  sns.scatterplot(flops_list_alexnet, time_list_alexnet, ax=ax, label='alexnet')\n",
        "  sns.scatterplot(flops_list_vgg16, time_list_vgg16, ax=ax, label='vgg16')\n",
        "  sns.scatterplot(flops_list_resnet, time_list_resnet, ax=ax, label='resnet')\n",
        "  sns.scatterplot(flops_list_conv, time_list_conv, ax=ax, label='single conv')\n",
        "  ax.set_title('FLOPs vs Time')\n",
        "  ax.set_xlabel('FLOPs')\n",
        "  ax.set_ylabel('Time')\n",
        "\n",
        "  ax2 = plt.axes([1, 0.6, .4, .4], facecolor='w') #bottom, left, width, height\n",
        "  sns.scatterplot(flops_list_alexnet, time_list_alexnet, ax=ax2)\n",
        "  sns.scatterplot(flops_list_vgg16, time_list_vgg16, ax=ax2)\n",
        "  sns.scatterplot(flops_list_resnet, time_list_resnet, ax=ax2)\n",
        "  sns.scatterplot(flops_list_conv, time_list_conv, ax=ax2)\n",
        "  ax2.set_title('zoom')\n",
        "  ax2.set_xlim([0.,0.10e11])"
      ],
      "metadata": {
        "id": "3nuXwXMV-OWi"
      },
      "execution_count": 7,
      "outputs": []
    },
    {
      "cell_type": "code",
      "source": [
        "compute_flops_time()"
      ],
      "metadata": {
        "id": "p1XvBBG_9ovb"
      },
      "execution_count": null,
      "outputs": []
    },
    {
      "cell_type": "code",
      "source": [
        "plot_as_line()"
      ],
      "metadata": {
        "colab": {
          "base_uri": "https://localhost:8080/",
          "height": 295
        },
        "id": "ZF79Rqvs-Bk9",
        "outputId": "667aecdf-aea5-48e8-bb29-ba6ccb4a5173"
      },
      "execution_count": 9,
      "outputs": [
        {
          "output_type": "display_data",
          "data": {
            "text/plain": [
              "<Figure size 432x288 with 1 Axes>"
            ],
            "image/png": "[encoded data removed]"
          },
          "metadata": {
            "needs_background": "light"
          }
        }
      ]
    },
    {
      "cell_type": "code",
      "source": [
        "plot_as_circles()"
      ],
      "metadata": {
        "colab": {
          "base_uri": "https://localhost:8080/",
          "height": 295
        },
        "id": "cjreDsaHUAMm",
        "outputId": "23d9c1c6-4401-497e-879f-06757cf48fe6"
      },
      "execution_count": 10,
      "outputs": [
        {
          "output_type": "display_data",
          "data": {
            "text/plain": [
              "<Figure size 432x288 with 1 Axes>"
            ],
            "image/png": "[encoded data removed]"
          },
          "metadata": {
            "needs_background": "light"
          }
        }
      ]
    },
    {
      "cell_type": "code",
      "source": [
        "plot_with_zoom()"
      ],
      "metadata": {
        "colab": {
          "base_uri": "https://localhost:8080/",
          "height": 628
        },
        "id": "QgBj-LDAh1gY",
        "outputId": "699345cf-e922-40bf-edcd-6ce76f00d7c3"
      },
      "execution_count": 12,
      "outputs": [
        {
          "output_type": "stream",
          "name": "stderr",
          "text": [
            "/usr/local/lib/python3.7/dist-packages/seaborn/_decorators.py:43: FutureWarning: Pass the following variables as keyword args: x, y. From version 0.12, the only valid positional argument will be `data`, and passing other arguments without an explicit keyword will result in an error or misinterpretation.\n",
            "  FutureWarning\n",
            "/usr/local/lib/python3.7/dist-packages/seaborn/_decorators.py:43: FutureWarning: Pass the following variables as keyword args: x, y. From version 0.12, the only valid positional argument will be `data`, and passing other arguments without an explicit keyword will result in an error or misinterpretation.\n",
            "  FutureWarning\n",
            "/usr/local/lib/python3.7/dist-packages/seaborn/_decorators.py:43: FutureWarning: Pass the following variables as keyword args: x, y. From version 0.12, the only valid positional argument will be `data`, and passing other arguments without an explicit keyword will result in an error or misinterpretation.\n",
            "  FutureWarning\n",
            "/usr/local/lib/python3.7/dist-packages/seaborn/_decorators.py:43: FutureWarning: Pass the following variables as keyword args: x, y. From version 0.12, the only valid positional argument will be `data`, and passing other arguments without an explicit keyword will result in an error or misinterpretation.\n",
            "  FutureWarning\n",
            "/usr/local/lib/python3.7/dist-packages/seaborn/_decorators.py:43: FutureWarning: Pass the following variables as keyword args: x, y. From version 0.12, the only valid positional argument will be `data`, and passing other arguments without an explicit keyword will result in an error or misinterpretation.\n",
            "  FutureWarning\n",
            "/usr/local/lib/python3.7/dist-packages/seaborn/_decorators.py:43: FutureWarning: Pass the following variables as keyword args: x, y. From version 0.12, the only valid positional argument will be `data`, and passing other arguments without an explicit keyword will result in an error or misinterpretation.\n",
            "  FutureWarning\n",
            "/usr/local/lib/python3.7/dist-packages/seaborn/_decorators.py:43: FutureWarning: Pass the following variables as keyword args: x, y. From version 0.12, the only valid positional argument will be `data`, and passing other arguments without an explicit keyword will result in an error or misinterpretation.\n",
            "  FutureWarning\n",
            "/usr/local/lib/python3.7/dist-packages/seaborn/_decorators.py:43: FutureWarning: Pass the following variables as keyword args: x, y. From version 0.12, the only valid positional argument will be `data`, and passing other arguments without an explicit keyword will result in an error or misinterpretation.\n",
            "  FutureWarning\n"
          ]
        },
        {
          "output_type": "display_data",
          "data": {
            "text/plain": [
              "<Figure size 432x288 with 2 Axes>"
            ],
            "image/png": "[encoded data removed]"
          },
          "metadata": {
            "needs_background": "light"
          }
        }
      ]
    },
    {
      "cell_type": "code",
      "source": [
        ""
      ],
      "metadata": {
        "id": "-W9R__Rg8oo7"
      },
      "execution_count": null,
      "outputs": []
    }
  ]
}